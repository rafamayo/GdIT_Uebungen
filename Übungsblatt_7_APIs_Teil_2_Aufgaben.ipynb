{
  "nbformat": 4,
  "nbformat_minor": 0,
  "metadata": {
    "colab": {
      "provenance": [],
      "authorship_tag": "ABX9TyNyc7f5ivKxQu7Rbo5wfh6N",
      "include_colab_link": true
    },
    "kernelspec": {
      "name": "python3",
      "display_name": "Python 3"
    },
    "language_info": {
      "name": "python"
    }
  },
  "cells": [
    {
      "cell_type": "markdown",
      "metadata": {
        "id": "view-in-github",
        "colab_type": "text"
      },
      "source": [
        "<a href=\"https://colab.research.google.com/github/rafamayo/GdIT_Uebungen/blob/main/%C3%9Cbungsblatt_7_APIs_Teil_2_Aufgaben.ipynb\" target=\"_parent\"><img src=\"https://colab.research.google.com/assets/colab-badge.svg\" alt=\"Open In Colab\"/></a>"
      ]
    },
    {
      "cell_type": "markdown",
      "source": [
        "Google Colaboratory ist als Notebook gestaltet: man kann sehr einfach Text, Code und Grafiken kombinieren. Das Notebook ist in Zellen organisiert, die Text oder Code beinhalten können. Die Zellen werden dann ausgeführt, um entweder den formatierten Text oder das Ergebnis des Codeabschnitts anzuzeigen.\n",
        "\n",
        "Der Code ist Python und der Text wird mit Hilfe von *markdown* (https://markdown.de/) formatiert."
      ],
      "metadata": {
        "id": "t67AnttZ9ytR"
      }
    },
    {
      "cell_type": "markdown",
      "source": [
        "Python ist eine sehr beliebte Skriptsprache, die in 1991 erschienen ist. Die Programmiersprache besteht aus einem Kern und einer sehr großen Anzahl von Fremdbibliotheken für fast alle erdenkbare Aufgaben. In den letzten Jahren hat sich Python zur dominanten Programmiersprache für Anwendungen des maschinellen Lernens und der künstichen Intelligenz entwickelt.  "
      ],
      "metadata": {
        "id": "wiT6QMMP_A4E"
      }
    },
    {
      "cell_type": "markdown",
      "source": [
        "Für den Zugriff auf Webdienste verwenden wir die Bibliothek `requests`.\n",
        "Die Dokumentation dieser Bibliothek finden Sie hier: https://requests.readthedocs.io/en/latest/\n"
      ],
      "metadata": {
        "id": "7B3FqHN_AGia"
      }
    },
    {
      "cell_type": "markdown",
      "source": [
        "# Aufgabe 1: Die Liste der Autobahnen\n",
        "Zuerst müssen wir die Bibliothek `request` importieren, damit die entsprechenden Klassen und Methoden verfügbar sind. \n",
        "Danach spezifizieren wir die URL und führen die GET-Anfrage aus. Die Antwort weisen wir die Variable response zu. Letztendlich lassen wir uns die Antwort zeigen.\n",
        "\n",
        "Probieren Sie es aus!\n",
        "\n"
      ],
      "metadata": {
        "id": "ctu5GanWCVGz"
      }
    },
    {
      "cell_type": "code",
      "execution_count": null,
      "metadata": {
        "id": "8u5gn_Qby_qb"
      },
      "outputs": [],
      "source": [
        "import requests\n",
        "api_url = \"https://verkehr.autobahn.de/o/autobahn/\"\n",
        "response = requests.get(api_url)\n",
        "print(response)"
      ]
    },
    {
      "cell_type": "markdown",
      "source": [
        "Die erhaltene Antwort ist möglicherweise nicht das was Sie erwartet haben!\n",
        "* Warum?\n",
        "\n",
        "Die Antwort der `get`-Methode ist ein `Response`-Objekt (**Dokumentation!** https://requests.readthedocs.io/en/latest/). Dieses Objekt einfach *auszudrucken* ist nicht sinnvoll!\n",
        "\n",
        "Wir müssen die Antwort geeignet formatieren. Schlagen Sie die Dokumentation des `Response`-Objekts nach.\n",
        "\n",
        "* Welche Möglichkeiten der Formatierung haben Sie gefunden?\n",
        "* Geben Sie Ihre Antworten an?\n"
      ],
      "metadata": {
        "id": "TvCJxa_1EgNu"
      }
    },
    {
      "cell_type": "markdown",
      "source": [
        "# Aufgabe 2: Die Baustellen\n",
        "\n",
        "a) Lassen Sie sich die Baustellen einer Austobahn anzeigen, nehmen Sie zum Beispiel die A7."
      ],
      "metadata": {
        "id": "ka6fYp_qGe4N"
      }
    },
    {
      "cell_type": "code",
      "source": [
        "# Ihr Code hier!\n"
      ],
      "metadata": {
        "id": "q9NAyrI8TyCb"
      },
      "execution_count": null,
      "outputs": []
    },
    {
      "cell_type": "markdown",
      "source": [
        "Sie erhalten eine (in der Regel) lange Liste von baustellen. \n",
        "\n",
        "b) Wie können wir auf eine bestimmte Baustelle zugreifen? Zuerst müssen wir herausfinden um welchen Datentyp es sich handelt. Das erfahren wir mit der eingebetteten Methode `type()`.\n",
        "\n",
        "Probieren Sie es aus!"
      ],
      "metadata": {
        "id": "CIWtN6-uG895"
      }
    },
    {
      "cell_type": "code",
      "source": [
        "# Ihr Code hier!\n"
      ],
      "metadata": {
        "id": "AENgwVqo7kpM"
      },
      "execution_count": null,
      "outputs": []
    },
    {
      "cell_type": "markdown",
      "source": [
        "Es handelt sich um ein `dictionary`. Das ist ein wichtiger abstrakter Datentyp in Python (https://www.w3schools.com/python/python_dictionaries.asp), der aus Paaren key : value besteht. Der key ist in diesem Fall 'roadworks'. Der entsprechende value ist eine Liste (https://www.w3schools.com/python/python_lists.asp). Die `list` ist ebenfalls ein wichtiger abstrakter Datentyp.\n",
        "\n",
        "c) Überprüfen Sie die Datentypen"
      ],
      "metadata": {
        "id": "vKjXIpUiI0Av"
      }
    },
    {
      "cell_type": "code",
      "source": [
        "# Ihr Code hier!\n"
      ],
      "metadata": {
        "id": "uI2kP2wmIq0Z"
      },
      "execution_count": null,
      "outputs": []
    },
    {
      "cell_type": "markdown",
      "source": [
        "Von der Liste können wir die Länge erfragen.\n",
        "\n",
        "d) Wie viele Baustellen gibt es momentan auf der A7?"
      ],
      "metadata": {
        "id": "zsuQJ7lLpqVj"
      }
    },
    {
      "cell_type": "code",
      "source": [
        "# Ihr Code hier!\n"
      ],
      "metadata": {
        "id": "KMpL92-ep3V9"
      },
      "execution_count": null,
      "outputs": []
    },
    {
      "cell_type": "markdown",
      "source": [
        "e) Wir können uns einen spezifischen Listeneintrag geben lassen. Lassen Sie sich die Information einer bestimmten Baustelle anzeigen, z.B. die 4. Baustelle.\n",
        "\n",
        "Probieren Sie es aus!"
      ],
      "metadata": {
        "id": "LPz_xzhFsH4U"
      }
    },
    {
      "cell_type": "code",
      "source": [
        "# Ihr Code hier!\n"
      ],
      "metadata": {
        "id": "6sIt_updsRIU"
      },
      "execution_count": null,
      "outputs": []
    },
    {
      "cell_type": "markdown",
      "source": [
        "f) Die Elemente der Liste sind ebenfalls dictionaries bestehend aus key:value Paaren. Wir können z.B. auf den key `subtitle` für die 4. Baustelle zugreifen.\n",
        "\n",
        "Probieren sie es aus!"
      ],
      "metadata": {
        "id": "NbIs6ZyYtYpx"
      }
    },
    {
      "cell_type": "code",
      "source": [
        "# Ihr Code hier!\n"
      ],
      "metadata": {
        "id": "SSRb4gqzt2IZ"
      },
      "execution_count": null,
      "outputs": []
    },
    {
      "cell_type": "markdown",
      "source": [
        "### **Eine vollständige Aufgabe:**\n",
        "Schreiben Sie ein kleines Programm, das den Anwender nach einer Autobahn fragt und die entsprechende Anzahl der Baustellen ausgibt."
      ],
      "metadata": {
        "id": "LiZoxzzPrMVH"
      }
    },
    {
      "cell_type": "code",
      "source": [
        "# Ihr Code hier!\n"
      ],
      "metadata": {
        "id": "fKKrJ-IWuv5F"
      },
      "execution_count": null,
      "outputs": []
    },
    {
      "cell_type": "markdown",
      "source": [
        "# Aufgabe 3: Ladestationen auf Autobahnen\n",
        "\n",
        "a) Wie viele Ladestationen gibt es auf der A7? (Sie können auch eine andere Autobahn verwenden)\n",
        "Schreiben Sie ein Programm, das diese Information ausgibt."
      ],
      "metadata": {
        "id": "dqV5mnqNzkJF"
      }
    },
    {
      "cell_type": "code",
      "source": [
        "# Ihr Code hier!\n"
      ],
      "metadata": {
        "id": "OWhS4UmUxdvD"
      },
      "execution_count": null,
      "outputs": []
    },
    {
      "cell_type": "markdown",
      "source": [
        "b) Können Sie eine Liste mit allen Ladestationen einer bestimmten Autobahn generieren, die mindestens 4 Ladepunkte haben?\n",
        "\n",
        "Hier sind einige Aspekte, die Sie berücksichtigen sollten:\n",
        "* Wo in der Antwort der Anfrage befindet sich die Information bezüglich der Ladepunkte?\n",
        "* Um welchen Datentyp handelt es sich?\n",
        "* Wie können Sie eine Liste durchgehen?\n",
        "* Wie führen Sie Vergleiche durch?\n",
        "\n",
        "Ihre Antwort:\n",
        "* Wie viele Ladestationen haben Sie gefunden, die die Bedingung erfüllen?\n",
        "* Können Sie die Liste der Ladestationen ausgeben?"
      ],
      "metadata": {
        "id": "T4YSYcQz0Gu9"
      }
    },
    {
      "cell_type": "code",
      "source": [
        "# Ihr Code hier!\n"
      ],
      "metadata": {
        "id": "sWkFV9mV1Cas"
      },
      "execution_count": null,
      "outputs": []
    }
  ]
}